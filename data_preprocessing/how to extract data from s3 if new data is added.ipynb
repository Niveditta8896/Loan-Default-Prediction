{
 "cells": [
  {
   "cell_type": "code",
   "execution_count": 4,
   "id": "605e7d04",
   "metadata": {},
   "outputs": [],
   "source": [
    "import pandas as pd\n",
    "from io import StringIO\n",
    "import boto3"
   ]
  },
  {
   "cell_type": "code",
   "execution_count": 6,
   "id": "deb2c99a",
   "metadata": {},
   "outputs": [],
   "source": [
    "s3=boto3.client(\"s3\")"
   ]
  },
  {
   "cell_type": "code",
   "execution_count": 7,
   "id": "c60ff0ff",
   "metadata": {},
   "outputs": [],
   "source": [
    "bucket_name = 'loanpredictiondataset'    \n",
    "file_key = 'preprocessed_data.csv'"
   ]
  },
  {
   "cell_type": "code",
   "execution_count": 8,
   "id": "29d1aa6c",
   "metadata": {},
   "outputs": [],
   "source": [
    "obj = s3.get_object(Bucket=bucket_name, Key=file_key)"
   ]
  },
  {
   "cell_type": "code",
   "execution_count": 9,
   "id": "de2bd515",
   "metadata": {},
   "outputs": [],
   "source": [
    "data = pd.read_csv(obj['Body'])# obj[\"Body\"] is the streaming file from s3, body has the streaming file content"
   ]
  },
  {
   "cell_type": "code",
   "execution_count": null,
   "id": "58730dc5",
   "metadata": {},
   "outputs": [],
   "source": []
  }
 ],
 "metadata": {
  "kernelspec": {
   "display_name": "Python 3 (ipykernel)",
   "language": "python",
   "name": "python3"
  },
  "language_info": {
   "codemirror_mode": {
    "name": "ipython",
    "version": 3
   },
   "file_extension": ".py",
   "mimetype": "text/x-python",
   "name": "python",
   "nbconvert_exporter": "python",
   "pygments_lexer": "ipython3",
   "version": "3.7.1"
  }
 },
 "nbformat": 4,
 "nbformat_minor": 5
}
