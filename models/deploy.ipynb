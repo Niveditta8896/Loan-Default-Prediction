{
 "cells": [
  {
   "cell_type": "code",
   "execution_count": 1,
   "id": "258260d6",
   "metadata": {},
   "outputs": [
    {
     "name": "stdout",
     "output_type": "stream",
     "text": [
      "Loan Default Prediction: Yes\n"
     ]
    }
   ],
   "source": [
    "import pandas as pd\n",
    "import joblib\n",
    "\n",
    "\n",
    "# Load the trained pipeline\n",
    "pipeline = joblib.load('loan_default_pipeline.pkl')\n",
    "\n",
    "# All columns required by pipeline (same as training data)\n",
    "all_columns = ['Gender', 'Married', 'Dependents', 'Education', 'Self_Employed',\n",
    "               'ApplicantIncome', 'CoapplicantIncome', 'LoanAmount', 'Loan_Amount_Term',\n",
    "               'Credit_History', 'Property_Area', 'Applicant_log', 'CoapplicantIncome_log',\n",
    "               'LoanAmount_log', 'new_income', 'loan', 'EMI']\n",
    "\n",
    "# Default values (just placeholders — replace with training medians/modes later)\n",
    "defaults = {\n",
    "    'Gender': 'Male',\n",
    "    'Married': 'Yes',\n",
    "    'Dependents': 0,\n",
    "    'Education': 'Graduate',\n",
    "    'Self_Employed': 'No',\n",
    "    'ApplicantIncome': 4000,\n",
    "    'CoapplicantIncome': 1000,\n",
    "    'LoanAmount': 100,\n",
    "    'Loan_Amount_Term': 360.0,\n",
    "    'Credit_History': 1.0,\n",
    "    'Property_Area': 'Urban',\n",
    "    'Applicant_log': 8.5,\n",
    "    'CoapplicantIncome_log': 6.9,\n",
    "    'LoanAmount_log': 4.5,\n",
    "    'new_income': 'medium',\n",
    "    'loan': 'low',\n",
    "    'EMI': 1500\n",
    "}\n",
    "\n",
    "# User input only partial (e.g., top 6 important ones)\n",
    "user_input = {\n",
    "    'LoanAmount': 120,\n",
    "    'Loan_Amount_Term': 360.0,\n",
    "    'Applicant_log': 8.7,\n",
    "    'CoapplicantIncome_log': 6.2,\n",
    "    'EMI': 2000,\n",
    "    'Married': 'No',                \n",
    "    'Education': 'Graduate',        \n",
    "    'Property_Area': 'Semiurban'     \n",
    "}\n",
    "\n",
    "# Merge with defaults to get full input row\n",
    "input_row = defaults.copy()\n",
    "input_row.update(user_input)\n",
    "\n",
    "# Convert to DataFrame\n",
    "new_data = pd.DataFrame([input_row])\n",
    "\n",
    "# Predict\n",
    "prediction = pipeline.predict(new_data)\n",
    "\n",
    "label_map = {1: 'Yes', 0: 'No'}\n",
    "predicted_label = label_map[prediction[0]]\n",
    "print(\"Loan Default Prediction:\", predicted_label)"
   ]
  },
  {
   "cell_type": "code",
   "execution_count": null,
   "id": "0021f6f2",
   "metadata": {},
   "outputs": [],
   "source": []
  }
 ],
 "metadata": {
  "kernelspec": {
   "display_name": "Python 3 (ipykernel)",
   "language": "python",
   "name": "python3"
  },
  "language_info": {
   "codemirror_mode": {
    "name": "ipython",
    "version": 3
   },
   "file_extension": ".py",
   "mimetype": "text/x-python",
   "name": "python",
   "nbconvert_exporter": "python",
   "pygments_lexer": "ipython3",
   "version": "3.7.1"
  }
 },
 "nbformat": 4,
 "nbformat_minor": 5
}
