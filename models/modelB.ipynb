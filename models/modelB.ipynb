{
 "cells": [
  {
   "cell_type": "code",
   "execution_count": 1,
   "id": "85ed9fdb",
   "metadata": {},
   "outputs": [],
   "source": [
    "import pandas as pd\n",
    "import numpy as np\n"
   ]
  },
  {
   "cell_type": "code",
   "execution_count": 2,
   "id": "7063788f",
   "metadata": {},
   "outputs": [],
   "source": [
    "data=pd.read_csv(\"preprocessed_data_model_B.csv\")"
   ]
  },
  {
   "cell_type": "code",
   "execution_count": 3,
   "id": "bc8ca414",
   "metadata": {},
   "outputs": [
    {
     "name": "stdout",
     "output_type": "stream",
     "text": [
      "<class 'pandas.core.frame.DataFrame'>\n",
      "RangeIndex: 614 entries, 0 to 613\n",
      "Data columns (total 19 columns):\n",
      " #   Column                 Non-Null Count  Dtype  \n",
      "---  ------                 --------------  -----  \n",
      " 0   Unnamed: 0             614 non-null    int64  \n",
      " 1   Gender                 614 non-null    object \n",
      " 2   Married                614 non-null    object \n",
      " 3   Dependents             614 non-null    int64  \n",
      " 4   Education              614 non-null    object \n",
      " 5   Self_Employed          614 non-null    object \n",
      " 6   ApplicantIncome        614 non-null    float64\n",
      " 7   CoapplicantIncome      614 non-null    float64\n",
      " 8   LoanAmount             614 non-null    float64\n",
      " 9   Loan_Amount_Term       614 non-null    float64\n",
      " 10  Credit_History         614 non-null    float64\n",
      " 11  Property_Area          614 non-null    object \n",
      " 12  Loan_Status            614 non-null    object \n",
      " 13  Applicant_log          614 non-null    float64\n",
      " 14  CoapplicantIncome_log  614 non-null    float64\n",
      " 15  LoanAmount_log         614 non-null    float64\n",
      " 16  new_income             614 non-null    object \n",
      " 17  loan                   614 non-null    object \n",
      " 18  EMI                    614 non-null    float64\n",
      "dtypes: float64(9), int64(2), object(8)\n",
      "memory usage: 91.3+ KB\n"
     ]
    }
   ],
   "source": [
    "data.info()"
   ]
  },
  {
   "cell_type": "code",
   "execution_count": 4,
   "id": "59bb3e8f",
   "metadata": {},
   "outputs": [
    {
     "data": {
      "text/html": [
       "<div>\n",
       "<style scoped>\n",
       "    .dataframe tbody tr th:only-of-type {\n",
       "        vertical-align: middle;\n",
       "    }\n",
       "\n",
       "    .dataframe tbody tr th {\n",
       "        vertical-align: top;\n",
       "    }\n",
       "\n",
       "    .dataframe thead th {\n",
       "        text-align: right;\n",
       "    }\n",
       "</style>\n",
       "<table border=\"1\" class=\"dataframe\">\n",
       "  <thead>\n",
       "    <tr style=\"text-align: right;\">\n",
       "      <th></th>\n",
       "      <th>Unnamed: 0</th>\n",
       "      <th>Gender</th>\n",
       "      <th>Married</th>\n",
       "      <th>Dependents</th>\n",
       "      <th>Education</th>\n",
       "      <th>Self_Employed</th>\n",
       "      <th>ApplicantIncome</th>\n",
       "      <th>CoapplicantIncome</th>\n",
       "      <th>LoanAmount</th>\n",
       "      <th>Loan_Amount_Term</th>\n",
       "      <th>Credit_History</th>\n",
       "      <th>Property_Area</th>\n",
       "      <th>Loan_Status</th>\n",
       "      <th>Applicant_log</th>\n",
       "      <th>CoapplicantIncome_log</th>\n",
       "      <th>LoanAmount_log</th>\n",
       "      <th>new_income</th>\n",
       "      <th>loan</th>\n",
       "      <th>EMI</th>\n",
       "    </tr>\n",
       "  </thead>\n",
       "  <tbody>\n",
       "    <tr>\n",
       "      <th>0</th>\n",
       "      <td>0</td>\n",
       "      <td>Male</td>\n",
       "      <td>No</td>\n",
       "      <td>0</td>\n",
       "      <td>Graduate</td>\n",
       "      <td>No</td>\n",
       "      <td>5849.0</td>\n",
       "      <td>0.0</td>\n",
       "      <td>146.412162</td>\n",
       "      <td>360.0</td>\n",
       "      <td>1.0</td>\n",
       "      <td>Urban</td>\n",
       "      <td>yes</td>\n",
       "      <td>8.674197</td>\n",
       "      <td>0.000000</td>\n",
       "      <td>4.993232</td>\n",
       "      <td>very high</td>\n",
       "      <td>high</td>\n",
       "      <td>0.406700</td>\n",
       "    </tr>\n",
       "    <tr>\n",
       "      <th>1</th>\n",
       "      <td>1</td>\n",
       "      <td>Male</td>\n",
       "      <td>Yes</td>\n",
       "      <td>1</td>\n",
       "      <td>Graduate</td>\n",
       "      <td>No</td>\n",
       "      <td>4583.0</td>\n",
       "      <td>1508.0</td>\n",
       "      <td>128.000000</td>\n",
       "      <td>360.0</td>\n",
       "      <td>1.0</td>\n",
       "      <td>Rural</td>\n",
       "      <td>no</td>\n",
       "      <td>8.430327</td>\n",
       "      <td>7.319202</td>\n",
       "      <td>4.859812</td>\n",
       "      <td>high</td>\n",
       "      <td>medium</td>\n",
       "      <td>0.355556</td>\n",
       "    </tr>\n",
       "    <tr>\n",
       "      <th>2</th>\n",
       "      <td>2</td>\n",
       "      <td>Male</td>\n",
       "      <td>Yes</td>\n",
       "      <td>0</td>\n",
       "      <td>Graduate</td>\n",
       "      <td>Yes</td>\n",
       "      <td>3000.0</td>\n",
       "      <td>0.0</td>\n",
       "      <td>66.000000</td>\n",
       "      <td>360.0</td>\n",
       "      <td>1.0</td>\n",
       "      <td>Urban</td>\n",
       "      <td>yes</td>\n",
       "      <td>8.006701</td>\n",
       "      <td>0.000000</td>\n",
       "      <td>4.204693</td>\n",
       "      <td>medium</td>\n",
       "      <td>low</td>\n",
       "      <td>0.183333</td>\n",
       "    </tr>\n",
       "    <tr>\n",
       "      <th>3</th>\n",
       "      <td>3</td>\n",
       "      <td>Male</td>\n",
       "      <td>Yes</td>\n",
       "      <td>0</td>\n",
       "      <td>Not Graduate</td>\n",
       "      <td>No</td>\n",
       "      <td>2583.0</td>\n",
       "      <td>2358.0</td>\n",
       "      <td>120.000000</td>\n",
       "      <td>360.0</td>\n",
       "      <td>1.0</td>\n",
       "      <td>Urban</td>\n",
       "      <td>yes</td>\n",
       "      <td>7.857094</td>\n",
       "      <td>7.765993</td>\n",
       "      <td>4.795791</td>\n",
       "      <td>low</td>\n",
       "      <td>medium</td>\n",
       "      <td>0.333333</td>\n",
       "    </tr>\n",
       "    <tr>\n",
       "      <th>4</th>\n",
       "      <td>4</td>\n",
       "      <td>Male</td>\n",
       "      <td>No</td>\n",
       "      <td>0</td>\n",
       "      <td>Graduate</td>\n",
       "      <td>No</td>\n",
       "      <td>6000.0</td>\n",
       "      <td>0.0</td>\n",
       "      <td>141.000000</td>\n",
       "      <td>360.0</td>\n",
       "      <td>1.0</td>\n",
       "      <td>Urban</td>\n",
       "      <td>yes</td>\n",
       "      <td>8.699681</td>\n",
       "      <td>0.000000</td>\n",
       "      <td>4.955827</td>\n",
       "      <td>very high</td>\n",
       "      <td>high</td>\n",
       "      <td>0.391667</td>\n",
       "    </tr>\n",
       "    <tr>\n",
       "      <th>...</th>\n",
       "      <td>...</td>\n",
       "      <td>...</td>\n",
       "      <td>...</td>\n",
       "      <td>...</td>\n",
       "      <td>...</td>\n",
       "      <td>...</td>\n",
       "      <td>...</td>\n",
       "      <td>...</td>\n",
       "      <td>...</td>\n",
       "      <td>...</td>\n",
       "      <td>...</td>\n",
       "      <td>...</td>\n",
       "      <td>...</td>\n",
       "      <td>...</td>\n",
       "      <td>...</td>\n",
       "      <td>...</td>\n",
       "      <td>...</td>\n",
       "      <td>...</td>\n",
       "      <td>...</td>\n",
       "    </tr>\n",
       "    <tr>\n",
       "      <th>609</th>\n",
       "      <td>609</td>\n",
       "      <td>Female</td>\n",
       "      <td>No</td>\n",
       "      <td>0</td>\n",
       "      <td>Graduate</td>\n",
       "      <td>No</td>\n",
       "      <td>2900.0</td>\n",
       "      <td>0.0</td>\n",
       "      <td>71.000000</td>\n",
       "      <td>360.0</td>\n",
       "      <td>1.0</td>\n",
       "      <td>Rural</td>\n",
       "      <td>yes</td>\n",
       "      <td>7.972811</td>\n",
       "      <td>0.000000</td>\n",
       "      <td>4.276666</td>\n",
       "      <td>medium</td>\n",
       "      <td>low</td>\n",
       "      <td>0.197222</td>\n",
       "    </tr>\n",
       "    <tr>\n",
       "      <th>610</th>\n",
       "      <td>610</td>\n",
       "      <td>Male</td>\n",
       "      <td>Yes</td>\n",
       "      <td>3</td>\n",
       "      <td>Graduate</td>\n",
       "      <td>No</td>\n",
       "      <td>4106.0</td>\n",
       "      <td>0.0</td>\n",
       "      <td>40.000000</td>\n",
       "      <td>180.0</td>\n",
       "      <td>1.0</td>\n",
       "      <td>Rural</td>\n",
       "      <td>yes</td>\n",
       "      <td>8.320448</td>\n",
       "      <td>0.000000</td>\n",
       "      <td>3.713572</td>\n",
       "      <td>high</td>\n",
       "      <td>low</td>\n",
       "      <td>0.222222</td>\n",
       "    </tr>\n",
       "    <tr>\n",
       "      <th>611</th>\n",
       "      <td>611</td>\n",
       "      <td>Male</td>\n",
       "      <td>Yes</td>\n",
       "      <td>1</td>\n",
       "      <td>Graduate</td>\n",
       "      <td>No</td>\n",
       "      <td>8072.0</td>\n",
       "      <td>240.0</td>\n",
       "      <td>253.000000</td>\n",
       "      <td>360.0</td>\n",
       "      <td>1.0</td>\n",
       "      <td>Urban</td>\n",
       "      <td>yes</td>\n",
       "      <td>8.996280</td>\n",
       "      <td>5.484797</td>\n",
       "      <td>5.537334</td>\n",
       "      <td>very high</td>\n",
       "      <td>very high</td>\n",
       "      <td>0.702778</td>\n",
       "    </tr>\n",
       "    <tr>\n",
       "      <th>612</th>\n",
       "      <td>612</td>\n",
       "      <td>Male</td>\n",
       "      <td>Yes</td>\n",
       "      <td>2</td>\n",
       "      <td>Graduate</td>\n",
       "      <td>No</td>\n",
       "      <td>7583.0</td>\n",
       "      <td>0.0</td>\n",
       "      <td>187.000000</td>\n",
       "      <td>360.0</td>\n",
       "      <td>1.0</td>\n",
       "      <td>Urban</td>\n",
       "      <td>yes</td>\n",
       "      <td>8.933796</td>\n",
       "      <td>0.000000</td>\n",
       "      <td>5.236442</td>\n",
       "      <td>very high</td>\n",
       "      <td>very high</td>\n",
       "      <td>0.519444</td>\n",
       "    </tr>\n",
       "    <tr>\n",
       "      <th>613</th>\n",
       "      <td>613</td>\n",
       "      <td>Female</td>\n",
       "      <td>No</td>\n",
       "      <td>0</td>\n",
       "      <td>Graduate</td>\n",
       "      <td>Yes</td>\n",
       "      <td>4583.0</td>\n",
       "      <td>0.0</td>\n",
       "      <td>133.000000</td>\n",
       "      <td>360.0</td>\n",
       "      <td>1.0</td>\n",
       "      <td>Semiurban</td>\n",
       "      <td>no</td>\n",
       "      <td>8.430327</td>\n",
       "      <td>0.000000</td>\n",
       "      <td>4.897840</td>\n",
       "      <td>high</td>\n",
       "      <td>high</td>\n",
       "      <td>0.369444</td>\n",
       "    </tr>\n",
       "  </tbody>\n",
       "</table>\n",
       "<p>614 rows × 19 columns</p>\n",
       "</div>"
      ],
      "text/plain": [
       "     Unnamed: 0  Gender Married  Dependents     Education Self_Employed  \\\n",
       "0             0    Male      No           0      Graduate            No   \n",
       "1             1    Male     Yes           1      Graduate            No   \n",
       "2             2    Male     Yes           0      Graduate           Yes   \n",
       "3             3    Male     Yes           0  Not Graduate            No   \n",
       "4             4    Male      No           0      Graduate            No   \n",
       "..          ...     ...     ...         ...           ...           ...   \n",
       "609         609  Female      No           0      Graduate            No   \n",
       "610         610    Male     Yes           3      Graduate            No   \n",
       "611         611    Male     Yes           1      Graduate            No   \n",
       "612         612    Male     Yes           2      Graduate            No   \n",
       "613         613  Female      No           0      Graduate           Yes   \n",
       "\n",
       "     ApplicantIncome  CoapplicantIncome  LoanAmount  Loan_Amount_Term  \\\n",
       "0             5849.0                0.0  146.412162             360.0   \n",
       "1             4583.0             1508.0  128.000000             360.0   \n",
       "2             3000.0                0.0   66.000000             360.0   \n",
       "3             2583.0             2358.0  120.000000             360.0   \n",
       "4             6000.0                0.0  141.000000             360.0   \n",
       "..               ...                ...         ...               ...   \n",
       "609           2900.0                0.0   71.000000             360.0   \n",
       "610           4106.0                0.0   40.000000             180.0   \n",
       "611           8072.0              240.0  253.000000             360.0   \n",
       "612           7583.0                0.0  187.000000             360.0   \n",
       "613           4583.0                0.0  133.000000             360.0   \n",
       "\n",
       "     Credit_History Property_Area Loan_Status  Applicant_log  \\\n",
       "0               1.0         Urban         yes       8.674197   \n",
       "1               1.0         Rural          no       8.430327   \n",
       "2               1.0         Urban         yes       8.006701   \n",
       "3               1.0         Urban         yes       7.857094   \n",
       "4               1.0         Urban         yes       8.699681   \n",
       "..              ...           ...         ...            ...   \n",
       "609             1.0         Rural         yes       7.972811   \n",
       "610             1.0         Rural         yes       8.320448   \n",
       "611             1.0         Urban         yes       8.996280   \n",
       "612             1.0         Urban         yes       8.933796   \n",
       "613             1.0     Semiurban          no       8.430327   \n",
       "\n",
       "     CoapplicantIncome_log  LoanAmount_log new_income       loan       EMI  \n",
       "0                 0.000000        4.993232  very high       high  0.406700  \n",
       "1                 7.319202        4.859812       high     medium  0.355556  \n",
       "2                 0.000000        4.204693     medium        low  0.183333  \n",
       "3                 7.765993        4.795791        low     medium  0.333333  \n",
       "4                 0.000000        4.955827  very high       high  0.391667  \n",
       "..                     ...             ...        ...        ...       ...  \n",
       "609               0.000000        4.276666     medium        low  0.197222  \n",
       "610               0.000000        3.713572       high        low  0.222222  \n",
       "611               5.484797        5.537334  very high  very high  0.702778  \n",
       "612               0.000000        5.236442  very high  very high  0.519444  \n",
       "613               0.000000        4.897840       high       high  0.369444  \n",
       "\n",
       "[614 rows x 19 columns]"
      ]
     },
     "execution_count": 4,
     "metadata": {},
     "output_type": "execute_result"
    }
   ],
   "source": [
    "data"
   ]
  },
  {
   "cell_type": "code",
   "execution_count": 5,
   "id": "ab2b40bf",
   "metadata": {},
   "outputs": [],
   "source": [
    "data=data.drop(\"Unnamed: 0\",axis=1)"
   ]
  },
  {
   "cell_type": "code",
   "execution_count": 6,
   "id": "e21e731b",
   "metadata": {},
   "outputs": [
    {
     "data": {
      "text/plain": [
       "array(['very high', 'high', 'medium', 'low'], dtype=object)"
      ]
     },
     "execution_count": 6,
     "metadata": {},
     "output_type": "execute_result"
    }
   ],
   "source": [
    "data[\"new_income\"].unique()"
   ]
  },
  {
   "cell_type": "code",
   "execution_count": 7,
   "id": "381ae460",
   "metadata": {},
   "outputs": [
    {
     "data": {
      "text/plain": [
       "18"
      ]
     },
     "execution_count": 7,
     "metadata": {},
     "output_type": "execute_result"
    }
   ],
   "source": [
    "len(data.columns)"
   ]
  },
  {
   "cell_type": "code",
   "execution_count": 8,
   "id": "e44c91ca",
   "metadata": {},
   "outputs": [
    {
     "data": {
      "text/plain": [
       "Index(['Gender', 'Married', 'Dependents', 'Education', 'Self_Employed',\n",
       "       'ApplicantIncome', 'CoapplicantIncome', 'LoanAmount',\n",
       "       'Loan_Amount_Term', 'Credit_History', 'Property_Area', 'Loan_Status',\n",
       "       'Applicant_log', 'CoapplicantIncome_log', 'LoanAmount_log',\n",
       "       'new_income', 'loan', 'EMI'],\n",
       "      dtype='object')"
      ]
     },
     "execution_count": 8,
     "metadata": {},
     "output_type": "execute_result"
    }
   ],
   "source": [
    "data.columns"
   ]
  },
  {
   "cell_type": "code",
   "execution_count": 9,
   "id": "b281dabd",
   "metadata": {},
   "outputs": [],
   "source": [
    "numeric_cols = [\n",
    "    'ApplicantIncome', 'CoapplicantIncome', 'LoanAmount',\n",
    "    'Loan_Amount_Term', 'Credit_History', 'Applicant_log',\n",
    "    'CoapplicantIncome_log', 'LoanAmount_log', 'EMI'\n",
    "]\n",
    "\n",
    "categorical_cols = [\n",
    "    'Gender', 'Married',  'Education',\n",
    "    'Self_Employed', 'Property_Area', \n",
    "]\n",
    "ordinal_cols = ['loan', 'new_income', 'Dependents']\n",
    "ordinal_category=ordinal_category = [\n",
    "    ['very high', 'high', 'medium', 'low'],  # for 'loan'\n",
    "    ['very high', 'high', 'medium', 'low'],  # for 'new_income'\n",
    "    [0, 1, 2, 3]                              # for 'Dependents'\n",
    "]"
   ]
  },
  {
   "cell_type": "code",
   "execution_count": 10,
   "id": "cca8ff34",
   "metadata": {},
   "outputs": [],
   "source": [
    "data['Loan_Status'] = data['Loan_Status'].map({'yes': 1, 'no': 0})"
   ]
  },
  {
   "cell_type": "code",
   "execution_count": 11,
   "id": "fd4990c7",
   "metadata": {},
   "outputs": [],
   "source": [
    "from sklearn.model_selection import train_test_split\n",
    "from sklearn.pipeline import Pipeline\n",
    "from sklearn.compose import ColumnTransformer\n",
    "from sklearn.preprocessing import StandardScaler, OneHotEncoder,OrdinalEncoder\n",
    "from sklearn.feature_selection import RFE\n",
    "from sklearn.ensemble import RandomForestClassifier\n",
    "\n",
    "\n",
    "# 1. Prepare data\n",
    "X = data.drop(columns=['Loan_Status'])   # remove actual target\n",
    "y = data['Loan_Status']     \n",
    "\n"
   ]
  },
  {
   "cell_type": "code",
   "execution_count": 12,
   "id": "08af08a1",
   "metadata": {},
   "outputs": [
    {
     "data": {
      "text/plain": [
       "1    0.687296\n",
       "0    0.312704\n",
       "Name: Loan_Status, dtype: float64"
      ]
     },
     "execution_count": 12,
     "metadata": {},
     "output_type": "execute_result"
    }
   ],
   "source": [
    "y.value_counts(normalize=True)"
   ]
  },
  {
   "cell_type": "code",
   "execution_count": 13,
   "id": "bf49e6b3",
   "metadata": {},
   "outputs": [],
   "source": [
    "X_train, X_test, y_train, y_test = train_test_split(X, y, stratify=y, test_size=0.2)\n"
   ]
  },
  {
   "cell_type": "code",
   "execution_count": 23,
   "id": "f31decd8",
   "metadata": {},
   "outputs": [],
   "source": [
    "preprocessor = ColumnTransformer([\n",
    "    ('num', StandardScaler(), numeric_cols),\n",
    "    ('cat', OrdinalEncoder(), categorical_cols),\n",
    "    (\"ord\",OrdinalEncoder(categories=ordinal_category),ordinal_cols )\n",
    "])"
   ]
  },
  {
   "cell_type": "code",
   "execution_count": 69,
   "id": "6f40c943",
   "metadata": {},
   "outputs": [],
   "source": [
    "\n",
    "from sklearn.linear_model import LogisticRegression\n",
    "rf=RandomForestClassifier()\n",
    "rfe_selector = RFE(estimator=LogisticRegression(max_iter=1000, class_weight='balanced'), n_features_to_select=8\n",
    "                  )\n",
    "pipeline = Pipeline([\n",
    "    ('preprocess', preprocessor),\n",
    "    ('select', rfe_selector)  # Top 6 features\n",
    "    \n",
    "])"
   ]
  },
  {
   "cell_type": "code",
   "execution_count": 70,
   "id": "c2de70fb",
   "metadata": {},
   "outputs": [
    {
     "data": {
      "text/plain": [
       "Pipeline(steps=[('preprocess',\n",
       "                 ColumnTransformer(transformers=[('num', StandardScaler(),\n",
       "                                                  ['ApplicantIncome',\n",
       "                                                   'CoapplicantIncome',\n",
       "                                                   'LoanAmount',\n",
       "                                                   'Loan_Amount_Term',\n",
       "                                                   'Credit_History',\n",
       "                                                   'Applicant_log',\n",
       "                                                   'CoapplicantIncome_log',\n",
       "                                                   'LoanAmount_log', 'EMI']),\n",
       "                                                 ('cat', OrdinalEncoder(),\n",
       "                                                  ['Gender', 'Married',\n",
       "                                                   'Education', 'Self_Employed',\n",
       "                                                   'Property_Area']),\n",
       "                                                 ('ord',\n",
       "                                                  OrdinalEncoder(categories=[['very '\n",
       "                                                                              'high',\n",
       "                                                                              'high',\n",
       "                                                                              'medium',\n",
       "                                                                              'low'],\n",
       "                                                                             ['very '\n",
       "                                                                              'high',\n",
       "                                                                              'high',\n",
       "                                                                              'medium',\n",
       "                                                                              'low'],\n",
       "                                                                             [0,\n",
       "                                                                              1,\n",
       "                                                                              2,\n",
       "                                                                              3]]),\n",
       "                                                  ['loan', 'new_income',\n",
       "                                                   'Dependents'])])),\n",
       "                ('select',\n",
       "                 RFE(estimator=LogisticRegression(class_weight='balanced',\n",
       "                                                  max_iter=1000),\n",
       "                     n_features_to_select=8))])"
      ]
     },
     "execution_count": 70,
     "metadata": {},
     "output_type": "execute_result"
    }
   ],
   "source": [
    "pipeline.fit(X_train,y_train)"
   ]
  },
  {
   "cell_type": "code",
   "execution_count": 71,
   "id": "1dba8c04",
   "metadata": {},
   "outputs": [
    {
     "name": "stdout",
     "output_type": "stream",
     "text": [
      "Top Selected Features: ['LoanAmount' 'Loan_Amount_Term' 'Applicant_log' 'CoapplicantIncome_log'\n",
      " 'EMI' 'Married' 'Education' 'Property_Area']\n"
     ]
    }
   ],
   "source": [
    "selected_mask = pipeline.named_steps['select'].get_support()\n",
    "\n",
    "all_feature_names = np.array(numeric_cols + categorical_cols + ordinal_cols)\n",
    "\n",
    "# Apply mask to get selected feature names\n",
    "selected_features = all_feature_names[selected_mask]\n",
    "print(\"Top Selected Features:\", selected_features)\n"
   ]
  },
  {
   "cell_type": "code",
   "execution_count": 72,
   "id": "9e4b4de6",
   "metadata": {},
   "outputs": [
    {
     "name": "stdout",
     "output_type": "stream",
     "text": [
      "LogisticRegression Accuracy: 0.6341\n",
      "RandomForest Accuracy: 0.6748\n",
      "NaiveBayes Accuracy: 0.6098\n",
      "KNN Accuracy: 0.6179\n",
      "XGBoost Accuracy: 0.7073\n"
     ]
    }
   ],
   "source": [
    "from sklearn.linear_model import LogisticRegression\n",
    "from sklearn.ensemble import RandomForestClassifier\n",
    "from sklearn.naive_bayes import GaussianNB\n",
    "from sklearn.neighbors import KNeighborsClassifier\n",
    "from xgboost import XGBClassifier\n",
    "from sklearn.metrics import accuracy_score\n",
    "\n",
    "models = {\n",
    "    'LogisticRegression': LogisticRegression(max_iter=1000),\n",
    "    'RandomForest': RandomForestClassifier(),\n",
    "    'NaiveBayes': GaussianNB(),\n",
    "    'KNN': KNeighborsClassifier(),\n",
    "    'XGBoost': XGBClassifier(use_label_encoder=False, eval_metric='logloss')\n",
    "}\n",
    "\n",
    "results = {}\n",
    "\n",
    "for name, model in models.items():\n",
    "    pipeline = Pipeline([\n",
    "        ('preprocess', preprocessor),\n",
    "        ('select', rfe_selector),\n",
    "        ('model', model)\n",
    "    ])\n",
    "    \n",
    "    pipeline.fit(X_train, y_train)\n",
    "    y_pred = pipeline.predict(X_test)\n",
    "    acc = accuracy_score(y_test, y_pred)\n",
    "    \n",
    "    results[name] = acc\n",
    "    print(f\"{name} Accuracy: {acc:.4f}\")"
   ]
  },
  {
   "cell_type": "code",
   "execution_count": 68,
   "id": "f2d294bb",
   "metadata": {},
   "outputs": [
    {
     "name": "stdout",
     "output_type": "stream",
     "text": [
      "Best Params: {'model__max_depth': None, 'model__min_samples_split': 5, 'model__n_estimators': 100}\n",
      "Best ROC AUC (CV): 0.5309575462346711\n"
     ]
    }
   ],
   "source": [
    "from sklearn.model_selection import GridSearchCV\n",
    "from sklearn.model_selection import StratifiedKFold\n",
    "\n",
    "# Example: RandomForest Grid\n",
    "pipeline = Pipeline([\n",
    "    ('preprocess', preprocessor),\n",
    "    ('select', rfe_selector),\n",
    "    ('model', RandomForestClassifier(class_weight='balanced'))\n",
    "])\n",
    "\n",
    "param_grid = {\n",
    "    'model__n_estimators': [100, 200],\n",
    "    'model__max_depth': [4, 8, None],\n",
    "    'model__min_samples_split': [2, 5]\n",
    "} \n",
    "\n",
    "grid = GridSearchCV(pipeline, param_grid, cv=StratifiedKFold(5), scoring='roc_auc')\n",
    "grid.fit(X_train, y_train)\n",
    "\n",
    "print(\"Best Params:\", grid.best_params_)\n",
    "print(\"Best ROC AUC (CV):\", grid.best_score_)"
   ]
  },
  {
   "cell_type": "code",
   "execution_count": 73,
   "id": "7469d0fe",
   "metadata": {},
   "outputs": [
    {
     "name": "stdout",
     "output_type": "stream",
     "text": [
      "Best Params: {'model__learning_rate': 0.01, 'model__max_depth': 4, 'model__n_estimators': 100}\n",
      "Best ROC AUC (CV): 0.5410865737725038\n"
     ]
    }
   ],
   "source": [
    "from sklearn.model_selection import GridSearchCV\n",
    "from sklearn.model_selection import StratifiedKFold\n",
    "\n",
    "# Example: RandomForest Grid\n",
    "pipeline = Pipeline([\n",
    "    ('preprocess', preprocessor),\n",
    "    ('select', rfe_selector),\n",
    "    ('model', XGBClassifier(use_label_encoder=False, eval_metric='logloss', scale_pos_weight=2.2))\n",
    "])\n",
    "\n",
    "param_grid = {\n",
    "    'model__n_estimators': [100, 200],\n",
    "    'model__max_depth': [4, 8],\n",
    "    'model__learning_rate': [0.01, 0.1]\n",
    "}\n",
    "\n",
    "grid = GridSearchCV(pipeline, param_grid, cv=StratifiedKFold(5), scoring='roc_auc')\n",
    "grid.fit(X_train, y_train)\n",
    "\n",
    "print(\"Best Params:\", grid.best_params_)\n",
    "print(\"Best ROC AUC (CV):\", grid.best_score_)"
   ]
  },
  {
   "cell_type": "code",
   "execution_count": 74,
   "id": "9b154289",
   "metadata": {},
   "outputs": [
    {
     "data": {
      "text/plain": [
       "Pipeline(steps=[('preprocess',\n",
       "                 ColumnTransformer(transformers=[('num', StandardScaler(),\n",
       "                                                  ['ApplicantIncome',\n",
       "                                                   'CoapplicantIncome',\n",
       "                                                   'LoanAmount',\n",
       "                                                   'Loan_Amount_Term',\n",
       "                                                   'Credit_History',\n",
       "                                                   'Applicant_log',\n",
       "                                                   'CoapplicantIncome_log',\n",
       "                                                   'LoanAmount_log', 'EMI']),\n",
       "                                                 ('cat', OrdinalEncoder(),\n",
       "                                                  ['Gender', 'Married',\n",
       "                                                   'Education', 'Self_Employed',\n",
       "                                                   'Property_Area']),\n",
       "                                                 ('ord',\n",
       "                                                  OrdinalEncoder...\n",
       "                               gamma=0, gpu_id=-1, grow_policy='depthwise',\n",
       "                               importance_type=None, interaction_constraints='',\n",
       "                               learning_rate=0.01, max_bin=256,\n",
       "                               max_cat_to_onehot=4, max_delta_step=0,\n",
       "                               max_depth=4, max_leaves=0, min_child_weight=1,\n",
       "                               missing=nan, monotone_constraints='()',\n",
       "                               n_estimators=100, n_jobs=0, num_parallel_tree=1,\n",
       "                               predictor='auto', random_state=0, reg_alpha=0,\n",
       "                               reg_lambda=1, ...))])"
      ]
     },
     "execution_count": 74,
     "metadata": {},
     "output_type": "execute_result"
    }
   ],
   "source": [
    "grid.best_estimator_"
   ]
  },
  {
   "cell_type": "code",
   "execution_count": 75,
   "id": "c2ca0b86",
   "metadata": {},
   "outputs": [
    {
     "name": "stdout",
     "output_type": "stream",
     "text": [
      "Top Selected Features: ['LoanAmount' 'Loan_Amount_Term' 'Applicant_log' 'CoapplicantIncome_log'\n",
      " 'EMI' 'Married' 'Education' 'Property_Area']\n"
     ]
    }
   ],
   "source": [
    "best_pipeline = grid.best_estimator_\n",
    "selected_mask = best_pipeline.named_steps['select'].get_support()\n",
    "\n",
    "all_feature_names = np.array(numeric_cols + categorical_cols + ordinal_cols)\n",
    "\n",
    "# Apply mask to get selected feature names\n",
    "selected_features = all_feature_names[selected_mask]\n",
    "print(\"Top Selected Features:\", selected_features)\n"
   ]
  },
  {
   "cell_type": "code",
   "execution_count": 76,
   "id": "d13a0044",
   "metadata": {},
   "outputs": [
    {
     "data": {
      "text/plain": [
       "['loan_default_pipeline.pkl']"
      ]
     },
     "execution_count": 76,
     "metadata": {},
     "output_type": "execute_result"
    }
   ],
   "source": [
    "import joblib\n",
    "joblib.dump(best_pipeline,'loan_default_pipeline.pkl')"
   ]
  },
  {
   "cell_type": "code",
   "execution_count": 78,
   "id": "aaa8f1d6",
   "metadata": {},
   "outputs": [
    {
     "name": "stdout",
     "output_type": "stream",
     "text": [
      "[array(['Female', 'Male'], dtype=object), array(['No', 'Yes'], dtype=object), array(['Graduate', 'Not Graduate'], dtype=object), array(['No', 'Yes'], dtype=object), array(['Rural', 'Semiurban', 'Urban'], dtype=object)]\n"
     ]
    }
   ],
   "source": [
    "cat_encoder = pipeline.named_steps['preprocess'].named_transformers_['cat']\n",
    "print(cat_encoder.categories_)"
   ]
  },
  {
   "cell_type": "code",
   "execution_count": 80,
   "id": "48e1cfa2",
   "metadata": {},
   "outputs": [
    {
     "name": "stdout",
     "output_type": "stream",
     "text": [
      "Loan Default Prediction: [1]\n"
     ]
    }
   ],
   "source": [
    "import pandas as pd\n",
    "\n",
    "\n",
    "# Load the trained pipeline\n",
    "pipeline = joblib.load('loan_default_pipeline.pkl')\n",
    "\n",
    "# All columns required by pipeline (same as training data)\n",
    "all_columns = ['Gender', 'Married', 'Dependents', 'Education', 'Self_Employed',\n",
    "               'ApplicantIncome', 'CoapplicantIncome', 'LoanAmount', 'Loan_Amount_Term',\n",
    "               'Credit_History', 'Property_Area', 'Applicant_log', 'CoapplicantIncome_log',\n",
    "               'LoanAmount_log', 'new_income', 'loan', 'EMI']\n",
    "\n",
    "# Default values (just placeholders — replace with training medians/modes later)\n",
    "defaults = {\n",
    "    'Gender': 'Male',\n",
    "    'Married': 'Yes',\n",
    "    'Dependents': 0,\n",
    "    'Education': 'Graduate',\n",
    "    'Self_Employed': 'No',\n",
    "    'ApplicantIncome': 4000,\n",
    "    'CoapplicantIncome': 1000,\n",
    "    'LoanAmount': 100,\n",
    "    'Loan_Amount_Term': 360.0,\n",
    "    'Credit_History': 1.0,\n",
    "    'Property_Area': 'Urban',\n",
    "    'Applicant_log': 8.5,\n",
    "    'CoapplicantIncome_log': 6.9,\n",
    "    'LoanAmount_log': 4.5,\n",
    "    'new_income': 'medium',\n",
    "    'loan': 'low',\n",
    "    'EMI': 1500\n",
    "}\n",
    "\n",
    "# User input only partial (e.g., top 6 important ones)\n",
    "user_input = {\n",
    "    'LoanAmount': 120,\n",
    "    'Loan_Amount_Term': 360.0,\n",
    "    'Applicant_log': 8.7,\n",
    "    'CoapplicantIncome_log': 6.2,\n",
    "    'EMI': 2000,\n",
    "    'Married': 'No',                 \n",
    "    'Education': 'Graduate',         \n",
    "    'Property_Area': 'Semiurban'     \n",
    "}\n",
    "\n",
    "# Merge with defaults to get full input row\n",
    "input_row = defaults.copy()\n",
    "input_row.update(user_input)\n",
    "\n",
    "# Convert to DataFrame\n",
    "new_data = pd.DataFrame([input_row])\n",
    "\n",
    "# Predict\n",
    "prediction = pipeline.predict(new_data)\n",
    "print(\"Loan Default Prediction:\", prediction)"
   ]
  },
  {
   "cell_type": "code",
   "execution_count": null,
   "id": "4109cf37",
   "metadata": {},
   "outputs": [],
   "source": []
  }
 ],
 "metadata": {
  "kernelspec": {
   "display_name": "Python 3 (ipykernel)",
   "language": "python",
   "name": "python3"
  },
  "language_info": {
   "codemirror_mode": {
    "name": "ipython",
    "version": 3
   },
   "file_extension": ".py",
   "mimetype": "text/x-python",
   "name": "python",
   "nbconvert_exporter": "python",
   "pygments_lexer": "ipython3",
   "version": "3.7.1"
  }
 },
 "nbformat": 4,
 "nbformat_minor": 5
}
